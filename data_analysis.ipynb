{
 "cells": [
  {
   "cell_type": "code",
   "execution_count": 1,
   "id": "ec94aabe",
   "metadata": {},
   "outputs": [],
   "source": [
    "import pandas as pd\n",
    "import matplotlib.pyplot as plt\n",
    "import seaborn as sns"
   ]
  },
  {
   "cell_type": "code",
   "execution_count": 2,
   "id": "d41fcb00",
   "metadata": {},
   "outputs": [
    {
     "data": {
      "text/html": [
       "<div>\n",
       "<style scoped>\n",
       "    .dataframe tbody tr th:only-of-type {\n",
       "        vertical-align: middle;\n",
       "    }\n",
       "\n",
       "    .dataframe tbody tr th {\n",
       "        vertical-align: top;\n",
       "    }\n",
       "\n",
       "    .dataframe thead th {\n",
       "        text-align: right;\n",
       "    }\n",
       "</style>\n",
       "<table border=\"1\" class=\"dataframe\">\n",
       "  <thead>\n",
       "    <tr style=\"text-align: right;\">\n",
       "      <th></th>\n",
       "      <th>Order ID</th>\n",
       "      <th>Product</th>\n",
       "      <th>Quantity Ordered</th>\n",
       "      <th>Price Each</th>\n",
       "      <th>Order Date</th>\n",
       "      <th>Purchase Address</th>\n",
       "    </tr>\n",
       "  </thead>\n",
       "  <tbody>\n",
       "    <tr>\n",
       "      <th>0</th>\n",
       "      <td>141234.0</td>\n",
       "      <td>iPhone</td>\n",
       "      <td>1.0</td>\n",
       "      <td>700.00</td>\n",
       "      <td>1/22/2019 21:25</td>\n",
       "      <td>944 Walnut St, Boston, MA 02215</td>\n",
       "    </tr>\n",
       "    <tr>\n",
       "      <th>1</th>\n",
       "      <td>141235.0</td>\n",
       "      <td>Lightning Charging Cable</td>\n",
       "      <td>1.0</td>\n",
       "      <td>14.95</td>\n",
       "      <td>1/28/2019 14:15</td>\n",
       "      <td>185 Maple St, Portland, OR 97035</td>\n",
       "    </tr>\n",
       "    <tr>\n",
       "      <th>2</th>\n",
       "      <td>141236.0</td>\n",
       "      <td>Wired Headphones</td>\n",
       "      <td>2.0</td>\n",
       "      <td>11.99</td>\n",
       "      <td>1/17/2019 13:33</td>\n",
       "      <td>538 Adams St, San Francisco, CA 94016</td>\n",
       "    </tr>\n",
       "    <tr>\n",
       "      <th>3</th>\n",
       "      <td>141237.0</td>\n",
       "      <td>27in FHD Monitor</td>\n",
       "      <td>1.0</td>\n",
       "      <td>149.99</td>\n",
       "      <td>1/5/2019 20:33</td>\n",
       "      <td>738 10th St, Los Angeles, CA 90001</td>\n",
       "    </tr>\n",
       "    <tr>\n",
       "      <th>4</th>\n",
       "      <td>141238.0</td>\n",
       "      <td>Wired Headphones</td>\n",
       "      <td>1.0</td>\n",
       "      <td>11.99</td>\n",
       "      <td>1/25/2019 11:59</td>\n",
       "      <td>387 10th St, Austin, TX 73301</td>\n",
       "    </tr>\n",
       "    <tr>\n",
       "      <th>...</th>\n",
       "      <td>...</td>\n",
       "      <td>...</td>\n",
       "      <td>...</td>\n",
       "      <td>...</td>\n",
       "      <td>...</td>\n",
       "      <td>...</td>\n",
       "    </tr>\n",
       "    <tr>\n",
       "      <th>25112</th>\n",
       "      <td>319666.0</td>\n",
       "      <td>Lightning Charging Cable</td>\n",
       "      <td>1.0</td>\n",
       "      <td>14.95</td>\n",
       "      <td>12/11/2019 20:58</td>\n",
       "      <td>14 Madison St, San Francisco, CA 94016</td>\n",
       "    </tr>\n",
       "    <tr>\n",
       "      <th>25113</th>\n",
       "      <td>319667.0</td>\n",
       "      <td>AA Batteries (4-pack)</td>\n",
       "      <td>2.0</td>\n",
       "      <td>3.84</td>\n",
       "      <td>12/1/2019 12:01</td>\n",
       "      <td>549 Willow St, Los Angeles, CA 90001</td>\n",
       "    </tr>\n",
       "    <tr>\n",
       "      <th>25114</th>\n",
       "      <td>319668.0</td>\n",
       "      <td>Vareebadd Phone</td>\n",
       "      <td>1.0</td>\n",
       "      <td>400.00</td>\n",
       "      <td>12/9/2019 6:43</td>\n",
       "      <td>273 Wilson St, Seattle, WA 98101</td>\n",
       "    </tr>\n",
       "    <tr>\n",
       "      <th>25115</th>\n",
       "      <td>319669.0</td>\n",
       "      <td>Wired Headphones</td>\n",
       "      <td>1.0</td>\n",
       "      <td>11.99</td>\n",
       "      <td>12/3/2019 10:39</td>\n",
       "      <td>778 River St, Dallas, TX 75001</td>\n",
       "    </tr>\n",
       "    <tr>\n",
       "      <th>25116</th>\n",
       "      <td>319670.0</td>\n",
       "      <td>Bose SoundSport Headphones</td>\n",
       "      <td>1.0</td>\n",
       "      <td>99.99</td>\n",
       "      <td>12/21/2019 21:45</td>\n",
       "      <td>747 Chestnut St, Los Angeles, CA 90001</td>\n",
       "    </tr>\n",
       "  </tbody>\n",
       "</table>\n",
       "<p>186850 rows × 6 columns</p>\n",
       "</div>"
      ],
      "text/plain": [
       "       Order ID                     Product  Quantity Ordered  Price Each  \\\n",
       "0      141234.0                      iPhone               1.0      700.00   \n",
       "1      141235.0    Lightning Charging Cable               1.0       14.95   \n",
       "2      141236.0            Wired Headphones               2.0       11.99   \n",
       "3      141237.0            27in FHD Monitor               1.0      149.99   \n",
       "4      141238.0            Wired Headphones               1.0       11.99   \n",
       "...         ...                         ...               ...         ...   \n",
       "25112  319666.0    Lightning Charging Cable               1.0       14.95   \n",
       "25113  319667.0       AA Batteries (4-pack)               2.0        3.84   \n",
       "25114  319668.0             Vareebadd Phone               1.0      400.00   \n",
       "25115  319669.0            Wired Headphones               1.0       11.99   \n",
       "25116  319670.0  Bose SoundSport Headphones               1.0       99.99   \n",
       "\n",
       "             Order Date                        Purchase Address  \n",
       "0       1/22/2019 21:25         944 Walnut St, Boston, MA 02215  \n",
       "1       1/28/2019 14:15        185 Maple St, Portland, OR 97035  \n",
       "2       1/17/2019 13:33   538 Adams St, San Francisco, CA 94016  \n",
       "3        1/5/2019 20:33      738 10th St, Los Angeles, CA 90001  \n",
       "4       1/25/2019 11:59           387 10th St, Austin, TX 73301  \n",
       "...                 ...                                     ...  \n",
       "25112  12/11/2019 20:58  14 Madison St, San Francisco, CA 94016  \n",
       "25113   12/1/2019 12:01    549 Willow St, Los Angeles, CA 90001  \n",
       "25114    12/9/2019 6:43        273 Wilson St, Seattle, WA 98101  \n",
       "25115   12/3/2019 10:39          778 River St, Dallas, TX 75001  \n",
       "25116  12/21/2019 21:45  747 Chestnut St, Los Angeles, CA 90001  \n",
       "\n",
       "[186850 rows x 6 columns]"
      ]
     },
     "execution_count": 2,
     "metadata": {},
     "output_type": "execute_result"
    }
   ],
   "source": [
    "# Define a list of months as strings\n",
    "months = ['January', 'February', 'March', 'April', 'May', 'June', 'July', 'August', 'September', 'October', \n",
    "          'November', 'December']\n",
    "\n",
    "# Define an empty list to store dataframes\n",
    "dfs = []\n",
    "\n",
    "# Loop through the list of months \n",
    "for month in months:\n",
    "    # Check if the month is November (case insensitive)\n",
    "    if month.lower()==\"november\":\n",
    "        # If it is November, construct the filename\n",
    "        filename = f\"Sales_{month}_2019.csv\"\n",
    "        # Read the CSV file into a Pandas dataframe\n",
    "        file = pd.read_csv(filename)\n",
    "        # Rename a specific column in the dataframe\n",
    "        file=file.rename(columns={'Unnamed: 5':'Purchase Address'})\n",
    "        # Append the dataframe to the list\n",
    "        dfs.append(file)\n",
    "    \n",
    "    else:\n",
    "        # If it is not November, construct the filename\n",
    "        filename = f\"Sales_{month}_2019.csv\"\n",
    "        # Read the CSV file into a Pandas dataframe\n",
    "        file = pd.read_csv(filename)\n",
    "        # Append the dataframe to the list\n",
    "        dfs.append(file)\n",
    "\n",
    "# Concatenate all the dataframes in the list into a single dataframe\n",
    "merged_df = pd.concat(dfs, axis=\"rows\")\n",
    "# Assign the merged dataframe to the 'dfs' variable\n",
    "dfs=merged_df\n",
    "# Print the resulting dataframe\n",
    "dfs\n"
   ]
  },
  {
   "cell_type": "code",
   "execution_count": 3,
   "id": "c6d3d8ec",
   "metadata": {},
   "outputs": [
    {
     "data": {
      "text/html": [
       "<div>\n",
       "<style scoped>\n",
       "    .dataframe tbody tr th:only-of-type {\n",
       "        vertical-align: middle;\n",
       "    }\n",
       "\n",
       "    .dataframe tbody tr th {\n",
       "        vertical-align: top;\n",
       "    }\n",
       "\n",
       "    .dataframe thead th {\n",
       "        text-align: right;\n",
       "    }\n",
       "</style>\n",
       "<table border=\"1\" class=\"dataframe\">\n",
       "  <thead>\n",
       "    <tr style=\"text-align: right;\">\n",
       "      <th></th>\n",
       "      <th>Order ID</th>\n",
       "      <th>Quantity Ordered</th>\n",
       "      <th>Price Each</th>\n",
       "    </tr>\n",
       "  </thead>\n",
       "  <tbody>\n",
       "    <tr>\n",
       "      <th>count</th>\n",
       "      <td>185950.000000</td>\n",
       "      <td>185950.000000</td>\n",
       "      <td>185950.000000</td>\n",
       "    </tr>\n",
       "    <tr>\n",
       "      <th>mean</th>\n",
       "      <td>230417.569379</td>\n",
       "      <td>1.124383</td>\n",
       "      <td>184.399735</td>\n",
       "    </tr>\n",
       "    <tr>\n",
       "      <th>std</th>\n",
       "      <td>51512.737110</td>\n",
       "      <td>0.442793</td>\n",
       "      <td>332.731330</td>\n",
       "    </tr>\n",
       "    <tr>\n",
       "      <th>min</th>\n",
       "      <td>141234.000000</td>\n",
       "      <td>1.000000</td>\n",
       "      <td>2.990000</td>\n",
       "    </tr>\n",
       "    <tr>\n",
       "      <th>25%</th>\n",
       "      <td>185831.250000</td>\n",
       "      <td>1.000000</td>\n",
       "      <td>11.950000</td>\n",
       "    </tr>\n",
       "    <tr>\n",
       "      <th>50%</th>\n",
       "      <td>230367.500000</td>\n",
       "      <td>1.000000</td>\n",
       "      <td>14.950000</td>\n",
       "    </tr>\n",
       "    <tr>\n",
       "      <th>75%</th>\n",
       "      <td>275035.750000</td>\n",
       "      <td>1.000000</td>\n",
       "      <td>150.000000</td>\n",
       "    </tr>\n",
       "    <tr>\n",
       "      <th>max</th>\n",
       "      <td>319670.000000</td>\n",
       "      <td>9.000000</td>\n",
       "      <td>1700.000000</td>\n",
       "    </tr>\n",
       "  </tbody>\n",
       "</table>\n",
       "</div>"
      ],
      "text/plain": [
       "            Order ID  Quantity Ordered     Price Each\n",
       "count  185950.000000     185950.000000  185950.000000\n",
       "mean   230417.569379          1.124383     184.399735\n",
       "std     51512.737110          0.442793     332.731330\n",
       "min    141234.000000          1.000000       2.990000\n",
       "25%    185831.250000          1.000000      11.950000\n",
       "50%    230367.500000          1.000000      14.950000\n",
       "75%    275035.750000          1.000000     150.000000\n",
       "max    319670.000000          9.000000    1700.000000"
      ]
     },
     "execution_count": 3,
     "metadata": {},
     "output_type": "execute_result"
    }
   ],
   "source": [
    "dfs.describe()"
   ]
  },
  {
   "cell_type": "code",
   "execution_count": 4,
   "id": "359758c4",
   "metadata": {},
   "outputs": [
    {
     "data": {
      "text/html": [
       "<div>\n",
       "<style scoped>\n",
       "    .dataframe tbody tr th:only-of-type {\n",
       "        vertical-align: middle;\n",
       "    }\n",
       "\n",
       "    .dataframe tbody tr th {\n",
       "        vertical-align: top;\n",
       "    }\n",
       "\n",
       "    .dataframe thead th {\n",
       "        text-align: right;\n",
       "    }\n",
       "</style>\n",
       "<table border=\"1\" class=\"dataframe\">\n",
       "  <thead>\n",
       "    <tr style=\"text-align: right;\">\n",
       "      <th></th>\n",
       "      <th>Product</th>\n",
       "      <th>Order Date</th>\n",
       "      <th>Purchase Address</th>\n",
       "    </tr>\n",
       "  </thead>\n",
       "  <tbody>\n",
       "    <tr>\n",
       "      <th>count</th>\n",
       "      <td>185950</td>\n",
       "      <td>185950</td>\n",
       "      <td>185950</td>\n",
       "    </tr>\n",
       "    <tr>\n",
       "      <th>unique</th>\n",
       "      <td>19</td>\n",
       "      <td>142395</td>\n",
       "      <td>140787</td>\n",
       "    </tr>\n",
       "    <tr>\n",
       "      <th>top</th>\n",
       "      <td>USB-C Charging Cable</td>\n",
       "      <td>12/15/2019 20:16</td>\n",
       "      <td>193 Forest St, San Francisco, CA 94016</td>\n",
       "    </tr>\n",
       "    <tr>\n",
       "      <th>freq</th>\n",
       "      <td>21903</td>\n",
       "      <td>8</td>\n",
       "      <td>9</td>\n",
       "    </tr>\n",
       "  </tbody>\n",
       "</table>\n",
       "</div>"
      ],
      "text/plain": [
       "                     Product        Order Date  \\\n",
       "count                 185950            185950   \n",
       "unique                    19            142395   \n",
       "top     USB-C Charging Cable  12/15/2019 20:16   \n",
       "freq                   21903                 8   \n",
       "\n",
       "                              Purchase Address  \n",
       "count                                   185950  \n",
       "unique                                  140787  \n",
       "top     193 Forest St, San Francisco, CA 94016  \n",
       "freq                                         9  "
      ]
     },
     "execution_count": 4,
     "metadata": {},
     "output_type": "execute_result"
    }
   ],
   "source": [
    "dfs.describe(include='O')"
   ]
  },
  {
   "cell_type": "markdown",
   "id": "1ac5c527",
   "metadata": {},
   "source": [
    "### Fill missing values in \"Purchase Address\" column with the mode"
   ]
  },
  {
   "cell_type": "code",
   "execution_count": 5,
   "id": "ca9750df",
   "metadata": {},
   "outputs": [],
   "source": [
    "dfs[\"Purchase Address\"].fillna(dfs[\"Purchase Address\"].value_counts().idxmax(),inplace=True)"
   ]
  },
  {
   "cell_type": "code",
   "execution_count": 6,
   "id": "4860c625",
   "metadata": {},
   "outputs": [
    {
     "data": {
      "text/plain": [
       "0"
      ]
     },
     "execution_count": 6,
     "metadata": {},
     "output_type": "execute_result"
    }
   ],
   "source": [
    "dfs[\"Purchase Address\"].isnull().sum()"
   ]
  },
  {
   "cell_type": "markdown",
   "id": "5a5a038d",
   "metadata": {},
   "source": [
    "### Fill missing values in \"Order ID\" column with the mean"
   ]
  },
  {
   "cell_type": "code",
   "execution_count": 7,
   "id": "e3029f2c",
   "metadata": {},
   "outputs": [
    {
     "data": {
      "text/plain": [
       "900"
      ]
     },
     "execution_count": 7,
     "metadata": {},
     "output_type": "execute_result"
    }
   ],
   "source": [
    "dfs[\"Order ID\"].isnull().sum()"
   ]
  },
  {
   "cell_type": "code",
   "execution_count": 8,
   "id": "0abae717",
   "metadata": {},
   "outputs": [],
   "source": [
    "missing_value_data=dfs[\"Order ID\"].mean()"
   ]
  },
  {
   "cell_type": "code",
   "execution_count": 9,
   "id": "85b1d1ab",
   "metadata": {},
   "outputs": [],
   "source": [
    "dfs[\"Order ID\"].fillna(missing_value_data,inplace=True)"
   ]
  },
  {
   "cell_type": "code",
   "execution_count": 10,
   "id": "3b1fb30d",
   "metadata": {},
   "outputs": [
    {
     "data": {
      "text/plain": [
       "0"
      ]
     },
     "execution_count": 10,
     "metadata": {},
     "output_type": "execute_result"
    }
   ],
   "source": [
    "dfs[\"Order ID\"].isnull().sum()"
   ]
  },
  {
   "cell_type": "code",
   "execution_count": 11,
   "id": "da51b904",
   "metadata": {},
   "outputs": [
    {
     "data": {
      "text/plain": [
       "Order ID              0\n",
       "Product             900\n",
       "Quantity Ordered    900\n",
       "Price Each          900\n",
       "Order Date          900\n",
       "Purchase Address      0\n",
       "dtype: int64"
      ]
     },
     "execution_count": 11,
     "metadata": {},
     "output_type": "execute_result"
    }
   ],
   "source": [
    "dfs.isnull().sum()"
   ]
  },
  {
   "cell_type": "markdown",
   "id": "a22c1e91",
   "metadata": {},
   "source": [
    "### Fill missing values in \"Product\" column with the mode"
   ]
  },
  {
   "cell_type": "code",
   "execution_count": 12,
   "id": "22760d5b",
   "metadata": {},
   "outputs": [
    {
     "data": {
      "text/plain": [
       "0"
      ]
     },
     "execution_count": 12,
     "metadata": {},
     "output_type": "execute_result"
    }
   ],
   "source": [
    "missing_values_prod=dfs[\"Product\"].mode()[0]\n",
    "dfs[\"Product\"].fillna(missing_values_prod,inplace=True)\n",
    "\n",
    "# Check for missing values in \"Product\" column\n",
    "dfs['Product'].isnull().sum()"
   ]
  },
  {
   "cell_type": "markdown",
   "id": "bca9fd6b",
   "metadata": {},
   "source": [
    "### Fill missing values in \"Quantity Ordered\" column with the mean"
   ]
  },
  {
   "cell_type": "code",
   "execution_count": 13,
   "id": "01291301",
   "metadata": {},
   "outputs": [
    {
     "data": {
      "text/plain": [
       "0"
      ]
     },
     "execution_count": 13,
     "metadata": {},
     "output_type": "execute_result"
    }
   ],
   "source": [
    "dfs[\"Quantity Ordered\"].fillna(dfs[\"Quantity Ordered\"].mean(),inplace=True)\n",
    "\n",
    "# Check for missing values in \"Quantity Ordered\" column\n",
    "dfs[\"Quantity Ordered\"].isnull().sum()"
   ]
  },
  {
   "cell_type": "markdown",
   "id": "46c0698f",
   "metadata": {},
   "source": [
    "### Fill missing values in \"Price Each\" column with the median"
   ]
  },
  {
   "cell_type": "code",
   "execution_count": 14,
   "id": "3e412505",
   "metadata": {},
   "outputs": [
    {
     "data": {
      "text/plain": [
       "0"
      ]
     },
     "execution_count": 14,
     "metadata": {},
     "output_type": "execute_result"
    }
   ],
   "source": [
    "dfs[\"Price Each\"].fillna(dfs[\"Price Each\"].median(),inplace=True)\n",
    "\n",
    "# Check for missing values in \"Price Each\" column\n",
    "dfs[\"Price Each\"].isnull().sum()"
   ]
  },
  {
   "cell_type": "markdown",
   "id": "84766312",
   "metadata": {},
   "source": [
    "### Fill missing values in \"Order Date\" column with the mode"
   ]
  },
  {
   "cell_type": "code",
   "execution_count": 15,
   "id": "850fa396",
   "metadata": {},
   "outputs": [
    {
     "data": {
      "text/plain": [
       "0"
      ]
     },
     "execution_count": 15,
     "metadata": {},
     "output_type": "execute_result"
    }
   ],
   "source": [
    "dfs[\"Order Date\"].fillna(dfs[\"Order Date\"].value_counts().idxmax(),inplace=True)\n",
    "\n",
    "# Check for missing values in \"Order Date\" column\n",
    "dfs[\"Order Date\"].isnull().sum()"
   ]
  },
  {
   "cell_type": "code",
   "execution_count": 16,
   "id": "ea0b0cb3",
   "metadata": {},
   "outputs": [
    {
     "name": "stdout",
     "output_type": "stream",
     "text": [
      "<class 'pandas.core.frame.DataFrame'>\n",
      "Int64Index: 186850 entries, 0 to 25116\n",
      "Data columns (total 6 columns):\n",
      " #   Column            Non-Null Count   Dtype  \n",
      "---  ------            --------------   -----  \n",
      " 0   Order ID          186850 non-null  float64\n",
      " 1   Product           186850 non-null  object \n",
      " 2   Quantity Ordered  186850 non-null  float64\n",
      " 3   Price Each        186850 non-null  float64\n",
      " 4   Order Date        186850 non-null  object \n",
      " 5   Purchase Address  186850 non-null  object \n",
      "dtypes: float64(3), object(3)\n",
      "memory usage: 10.0+ MB\n"
     ]
    }
   ],
   "source": [
    "# Checking the datatype of each column of the dataframe\n",
    "dfs.info()"
   ]
  },
  {
   "cell_type": "markdown",
   "id": "b4cffc0c",
   "metadata": {},
   "source": [
    "### Creating a new column named Month"
   ]
  },
  {
   "cell_type": "code",
   "execution_count": 17,
   "id": "4b0bfc37",
   "metadata": {},
   "outputs": [
    {
     "data": {
      "text/plain": [
       "0"
      ]
     },
     "execution_count": 17,
     "metadata": {},
     "output_type": "execute_result"
    }
   ],
   "source": [
    "dfs['Order Date'].isnull().sum()"
   ]
  },
  {
   "cell_type": "markdown",
   "id": "b05bb808",
   "metadata": {},
   "source": [
    "### Convert \"Month\" column to integer"
   ]
  },
  {
   "cell_type": "code",
   "execution_count": 18,
   "id": "e3938b07",
   "metadata": {},
   "outputs": [],
   "source": [
    "dfs['Month']=pd.to_datetime(dfs['Order Date']).dt.month"
   ]
  },
  {
   "cell_type": "code",
   "execution_count": 19,
   "id": "350358c5",
   "metadata": {},
   "outputs": [],
   "source": [
    "dfs['Month']=dfs['Month'].astype(int)"
   ]
  },
  {
   "cell_type": "markdown",
   "id": "00d39967",
   "metadata": {},
   "source": [
    "### Extract \"City\" from \"Purchase Address\"\n"
   ]
  },
  {
   "cell_type": "code",
   "execution_count": 20,
   "id": "1696b6d6",
   "metadata": {},
   "outputs": [
    {
     "data": {
      "text/html": [
       "<div>\n",
       "<style scoped>\n",
       "    .dataframe tbody tr th:only-of-type {\n",
       "        vertical-align: middle;\n",
       "    }\n",
       "\n",
       "    .dataframe tbody tr th {\n",
       "        vertical-align: top;\n",
       "    }\n",
       "\n",
       "    .dataframe thead th {\n",
       "        text-align: right;\n",
       "    }\n",
       "</style>\n",
       "<table border=\"1\" class=\"dataframe\">\n",
       "  <thead>\n",
       "    <tr style=\"text-align: right;\">\n",
       "      <th></th>\n",
       "      <th>Order ID</th>\n",
       "      <th>Product</th>\n",
       "      <th>Quantity Ordered</th>\n",
       "      <th>Price Each</th>\n",
       "      <th>Order Date</th>\n",
       "      <th>Purchase Address</th>\n",
       "      <th>Month</th>\n",
       "      <th>City</th>\n",
       "    </tr>\n",
       "  </thead>\n",
       "  <tbody>\n",
       "    <tr>\n",
       "      <th>0</th>\n",
       "      <td>141234.0</td>\n",
       "      <td>iPhone</td>\n",
       "      <td>1.0</td>\n",
       "      <td>700.00</td>\n",
       "      <td>1/22/2019 21:25</td>\n",
       "      <td>944 Walnut St, Boston, MA 02215</td>\n",
       "      <td>1</td>\n",
       "      <td>Boston</td>\n",
       "    </tr>\n",
       "    <tr>\n",
       "      <th>1</th>\n",
       "      <td>141235.0</td>\n",
       "      <td>Lightning Charging Cable</td>\n",
       "      <td>1.0</td>\n",
       "      <td>14.95</td>\n",
       "      <td>1/28/2019 14:15</td>\n",
       "      <td>185 Maple St, Portland, OR 97035</td>\n",
       "      <td>1</td>\n",
       "      <td>Portland</td>\n",
       "    </tr>\n",
       "    <tr>\n",
       "      <th>2</th>\n",
       "      <td>141236.0</td>\n",
       "      <td>Wired Headphones</td>\n",
       "      <td>2.0</td>\n",
       "      <td>11.99</td>\n",
       "      <td>1/17/2019 13:33</td>\n",
       "      <td>538 Adams St, San Francisco, CA 94016</td>\n",
       "      <td>1</td>\n",
       "      <td>San Francisco</td>\n",
       "    </tr>\n",
       "    <tr>\n",
       "      <th>3</th>\n",
       "      <td>141237.0</td>\n",
       "      <td>27in FHD Monitor</td>\n",
       "      <td>1.0</td>\n",
       "      <td>149.99</td>\n",
       "      <td>1/5/2019 20:33</td>\n",
       "      <td>738 10th St, Los Angeles, CA 90001</td>\n",
       "      <td>1</td>\n",
       "      <td>Los Angeles</td>\n",
       "    </tr>\n",
       "    <tr>\n",
       "      <th>4</th>\n",
       "      <td>141238.0</td>\n",
       "      <td>Wired Headphones</td>\n",
       "      <td>1.0</td>\n",
       "      <td>11.99</td>\n",
       "      <td>1/25/2019 11:59</td>\n",
       "      <td>387 10th St, Austin, TX 73301</td>\n",
       "      <td>1</td>\n",
       "      <td>Austin</td>\n",
       "    </tr>\n",
       "    <tr>\n",
       "      <th>...</th>\n",
       "      <td>...</td>\n",
       "      <td>...</td>\n",
       "      <td>...</td>\n",
       "      <td>...</td>\n",
       "      <td>...</td>\n",
       "      <td>...</td>\n",
       "      <td>...</td>\n",
       "      <td>...</td>\n",
       "    </tr>\n",
       "    <tr>\n",
       "      <th>25112</th>\n",
       "      <td>319666.0</td>\n",
       "      <td>Lightning Charging Cable</td>\n",
       "      <td>1.0</td>\n",
       "      <td>14.95</td>\n",
       "      <td>12/11/2019 20:58</td>\n",
       "      <td>14 Madison St, San Francisco, CA 94016</td>\n",
       "      <td>12</td>\n",
       "      <td>San Francisco</td>\n",
       "    </tr>\n",
       "    <tr>\n",
       "      <th>25113</th>\n",
       "      <td>319667.0</td>\n",
       "      <td>AA Batteries (4-pack)</td>\n",
       "      <td>2.0</td>\n",
       "      <td>3.84</td>\n",
       "      <td>12/1/2019 12:01</td>\n",
       "      <td>549 Willow St, Los Angeles, CA 90001</td>\n",
       "      <td>12</td>\n",
       "      <td>Los Angeles</td>\n",
       "    </tr>\n",
       "    <tr>\n",
       "      <th>25114</th>\n",
       "      <td>319668.0</td>\n",
       "      <td>Vareebadd Phone</td>\n",
       "      <td>1.0</td>\n",
       "      <td>400.00</td>\n",
       "      <td>12/9/2019 6:43</td>\n",
       "      <td>273 Wilson St, Seattle, WA 98101</td>\n",
       "      <td>12</td>\n",
       "      <td>Seattle</td>\n",
       "    </tr>\n",
       "    <tr>\n",
       "      <th>25115</th>\n",
       "      <td>319669.0</td>\n",
       "      <td>Wired Headphones</td>\n",
       "      <td>1.0</td>\n",
       "      <td>11.99</td>\n",
       "      <td>12/3/2019 10:39</td>\n",
       "      <td>778 River St, Dallas, TX 75001</td>\n",
       "      <td>12</td>\n",
       "      <td>Dallas</td>\n",
       "    </tr>\n",
       "    <tr>\n",
       "      <th>25116</th>\n",
       "      <td>319670.0</td>\n",
       "      <td>Bose SoundSport Headphones</td>\n",
       "      <td>1.0</td>\n",
       "      <td>99.99</td>\n",
       "      <td>12/21/2019 21:45</td>\n",
       "      <td>747 Chestnut St, Los Angeles, CA 90001</td>\n",
       "      <td>12</td>\n",
       "      <td>Los Angeles</td>\n",
       "    </tr>\n",
       "  </tbody>\n",
       "</table>\n",
       "<p>186850 rows × 8 columns</p>\n",
       "</div>"
      ],
      "text/plain": [
       "       Order ID                     Product  Quantity Ordered  Price Each  \\\n",
       "0      141234.0                      iPhone               1.0      700.00   \n",
       "1      141235.0    Lightning Charging Cable               1.0       14.95   \n",
       "2      141236.0            Wired Headphones               2.0       11.99   \n",
       "3      141237.0            27in FHD Monitor               1.0      149.99   \n",
       "4      141238.0            Wired Headphones               1.0       11.99   \n",
       "...         ...                         ...               ...         ...   \n",
       "25112  319666.0    Lightning Charging Cable               1.0       14.95   \n",
       "25113  319667.0       AA Batteries (4-pack)               2.0        3.84   \n",
       "25114  319668.0             Vareebadd Phone               1.0      400.00   \n",
       "25115  319669.0            Wired Headphones               1.0       11.99   \n",
       "25116  319670.0  Bose SoundSport Headphones               1.0       99.99   \n",
       "\n",
       "             Order Date                        Purchase Address  Month  \\\n",
       "0       1/22/2019 21:25         944 Walnut St, Boston, MA 02215      1   \n",
       "1       1/28/2019 14:15        185 Maple St, Portland, OR 97035      1   \n",
       "2       1/17/2019 13:33   538 Adams St, San Francisco, CA 94016      1   \n",
       "3        1/5/2019 20:33      738 10th St, Los Angeles, CA 90001      1   \n",
       "4       1/25/2019 11:59           387 10th St, Austin, TX 73301      1   \n",
       "...                 ...                                     ...    ...   \n",
       "25112  12/11/2019 20:58  14 Madison St, San Francisco, CA 94016     12   \n",
       "25113   12/1/2019 12:01    549 Willow St, Los Angeles, CA 90001     12   \n",
       "25114    12/9/2019 6:43        273 Wilson St, Seattle, WA 98101     12   \n",
       "25115   12/3/2019 10:39          778 River St, Dallas, TX 75001     12   \n",
       "25116  12/21/2019 21:45  747 Chestnut St, Los Angeles, CA 90001     12   \n",
       "\n",
       "                 City  \n",
       "0              Boston  \n",
       "1            Portland  \n",
       "2       San Francisco  \n",
       "3         Los Angeles  \n",
       "4              Austin  \n",
       "...               ...  \n",
       "25112   San Francisco  \n",
       "25113     Los Angeles  \n",
       "25114         Seattle  \n",
       "25115          Dallas  \n",
       "25116     Los Angeles  \n",
       "\n",
       "[186850 rows x 8 columns]"
      ]
     },
     "execution_count": 20,
     "metadata": {},
     "output_type": "execute_result"
    }
   ],
   "source": [
    "dfs['City']=dfs['Purchase Address'].apply(lambda x:x.split(\",\")[1])\n",
    "dfs"
   ]
  },
  {
   "cell_type": "markdown",
   "id": "8d0822b0",
   "metadata": {},
   "source": [
    "### Create a list of columns to perform statistical analysis on"
   ]
  },
  {
   "cell_type": "code",
   "execution_count": 21,
   "id": "6ffeafec",
   "metadata": {},
   "outputs": [
    {
     "name": "stdout",
     "output_type": "stream",
     "text": [
      "Summary of Month column:\n",
      "The total sum is 1323447\n",
      "The average/mean is 7.0829381857104625\n",
      "The standard deviation is 3.5112526293612305\n",
      "The skewness is -0.09445379247366956\n",
      "The kurtosis is -1.29652148965562\n"
     ]
    }
   ],
   "source": [
    "# Create a list of columns to perform statistical analysis on\n",
    "columns = ['Order ID', 'Product', 'Quantity Ordered', 'Price Each', 'Order Date', 'Purchase Address', 'Month', 'City']\n",
    "\n",
    "# Set the index to perform statistical analysis on\n",
    "index = 6\n",
    "\n",
    "# Calculate the sum, mean, standard deviation, skewness, and kurtosis for the selected column\n",
    "sum=dfs[columns[index]].sum()\n",
    "mean=dfs[columns[index]].mean()\n",
    "std=dfs[columns[index]].std()\n",
    "skewness=dfs[columns[index]].skew()\n",
    "kurtosis=dfs[columns[index]].kurtosis()\n",
    "\n",
    "# Print the results\n",
    "print(f\"Summary of {columns[index]} column:\")\n",
    "print(f\"The total sum is {sum}\")\n",
    "print(f\"The average/mean is {mean}\")\n",
    "print(f\"The standard deviation is {std}\")\n",
    "print(f\"The skewness is {skewness}\")\n",
    "print(f\"The kurtosis is {kurtosis}\")"
   ]
  },
  {
   "cell_type": "markdown",
   "id": "02510f7c",
   "metadata": {},
   "source": [
    "### Calculating the correlation"
   ]
  },
  {
   "cell_type": "code",
   "execution_count": 22,
   "id": "1a29050e",
   "metadata": {},
   "outputs": [
    {
     "data": {
      "text/html": [
       "<div>\n",
       "<style scoped>\n",
       "    .dataframe tbody tr th:only-of-type {\n",
       "        vertical-align: middle;\n",
       "    }\n",
       "\n",
       "    .dataframe tbody tr th {\n",
       "        vertical-align: top;\n",
       "    }\n",
       "\n",
       "    .dataframe thead th {\n",
       "        text-align: right;\n",
       "    }\n",
       "</style>\n",
       "<table border=\"1\" class=\"dataframe\">\n",
       "  <thead>\n",
       "    <tr style=\"text-align: right;\">\n",
       "      <th></th>\n",
       "      <th>Order ID</th>\n",
       "      <th>Quantity Ordered</th>\n",
       "      <th>Price Each</th>\n",
       "      <th>Month</th>\n",
       "    </tr>\n",
       "  </thead>\n",
       "  <tbody>\n",
       "    <tr>\n",
       "      <th>Order ID</th>\n",
       "      <td>1.000000</td>\n",
       "      <td>0.000702</td>\n",
       "      <td>-0.002855</td>\n",
       "      <td>0.988339</td>\n",
       "    </tr>\n",
       "    <tr>\n",
       "      <th>Quantity Ordered</th>\n",
       "      <td>0.000702</td>\n",
       "      <td>1.000000</td>\n",
       "      <td>-0.148180</td>\n",
       "      <td>0.000787</td>\n",
       "    </tr>\n",
       "    <tr>\n",
       "      <th>Price Each</th>\n",
       "      <td>-0.002855</td>\n",
       "      <td>-0.148180</td>\n",
       "      <td>1.000000</td>\n",
       "      <td>-0.006798</td>\n",
       "    </tr>\n",
       "    <tr>\n",
       "      <th>Month</th>\n",
       "      <td>0.988339</td>\n",
       "      <td>0.000787</td>\n",
       "      <td>-0.006798</td>\n",
       "      <td>1.000000</td>\n",
       "    </tr>\n",
       "  </tbody>\n",
       "</table>\n",
       "</div>"
      ],
      "text/plain": [
       "                  Order ID  Quantity Ordered  Price Each     Month\n",
       "Order ID          1.000000          0.000702   -0.002855  0.988339\n",
       "Quantity Ordered  0.000702          1.000000   -0.148180  0.000787\n",
       "Price Each       -0.002855         -0.148180    1.000000 -0.006798\n",
       "Month             0.988339          0.000787   -0.006798  1.000000"
      ]
     },
     "execution_count": 22,
     "metadata": {},
     "output_type": "execute_result"
    }
   ],
   "source": [
    "# Calculate the correlation matrix\n",
    "dfs.corr()"
   ]
  },
  {
   "cell_type": "code",
   "execution_count": 23,
   "id": "35dd1009",
   "metadata": {},
   "outputs": [
    {
     "data": {
      "image/png": "[encoded data removed]",
      "text/plain": [
       "<Figure size 640x480 with 2 Axes>"
      ]
     },
     "metadata": {},
     "output_type": "display_data"
    }
   ],
   "source": [
    "# Displaying the correlation in figure \n",
    "sns.heatmap(dfs.corr(),annot=True);"
   ]
  },
  {
   "cell_type": "markdown",
   "id": "d9725f00",
   "metadata": {},
   "source": [
    "### The heatmap shows the correlation among the features. The value ranges from -1 to 1 where -1 represents that the features are perfectly negatively correlated, 1 indicates that the they perfectly positively correlated whereas 0 represents there is no correlation."
   ]
  },
  {
   "cell_type": "code",
   "execution_count": 24,
   "id": "85fde3e0",
   "metadata": {
    "scrolled": true
   },
   "outputs": [
    {
     "data": {
      "text/html": [
       "<div>\n",
       "<style scoped>\n",
       "    .dataframe tbody tr th:only-of-type {\n",
       "        vertical-align: middle;\n",
       "    }\n",
       "\n",
       "    .dataframe tbody tr th {\n",
       "        vertical-align: top;\n",
       "    }\n",
       "\n",
       "    .dataframe thead th {\n",
       "        text-align: right;\n",
       "    }\n",
       "</style>\n",
       "<table border=\"1\" class=\"dataframe\">\n",
       "  <thead>\n",
       "    <tr style=\"text-align: right;\">\n",
       "      <th></th>\n",
       "      <th>Order ID</th>\n",
       "      <th>Product</th>\n",
       "      <th>Quantity Ordered</th>\n",
       "      <th>Price Each</th>\n",
       "      <th>Order Date</th>\n",
       "      <th>Purchase Address</th>\n",
       "      <th>Month</th>\n",
       "      <th>City</th>\n",
       "    </tr>\n",
       "  </thead>\n",
       "  <tbody>\n",
       "    <tr>\n",
       "      <th>0</th>\n",
       "      <td>141234.0</td>\n",
       "      <td>iPhone</td>\n",
       "      <td>1.0</td>\n",
       "      <td>700.00</td>\n",
       "      <td>1/22/2019 21:25</td>\n",
       "      <td>944 Walnut St, Boston, MA 02215</td>\n",
       "      <td>1</td>\n",
       "      <td>Boston</td>\n",
       "    </tr>\n",
       "    <tr>\n",
       "      <th>1</th>\n",
       "      <td>141235.0</td>\n",
       "      <td>Lightning Charging Cable</td>\n",
       "      <td>1.0</td>\n",
       "      <td>14.95</td>\n",
       "      <td>1/28/2019 14:15</td>\n",
       "      <td>185 Maple St, Portland, OR 97035</td>\n",
       "      <td>1</td>\n",
       "      <td>Portland</td>\n",
       "    </tr>\n",
       "    <tr>\n",
       "      <th>2</th>\n",
       "      <td>141236.0</td>\n",
       "      <td>Wired Headphones</td>\n",
       "      <td>2.0</td>\n",
       "      <td>11.99</td>\n",
       "      <td>1/17/2019 13:33</td>\n",
       "      <td>538 Adams St, San Francisco, CA 94016</td>\n",
       "      <td>1</td>\n",
       "      <td>San Francisco</td>\n",
       "    </tr>\n",
       "    <tr>\n",
       "      <th>3</th>\n",
       "      <td>141237.0</td>\n",
       "      <td>27in FHD Monitor</td>\n",
       "      <td>1.0</td>\n",
       "      <td>149.99</td>\n",
       "      <td>1/5/2019 20:33</td>\n",
       "      <td>738 10th St, Los Angeles, CA 90001</td>\n",
       "      <td>1</td>\n",
       "      <td>Los Angeles</td>\n",
       "    </tr>\n",
       "    <tr>\n",
       "      <th>4</th>\n",
       "      <td>141238.0</td>\n",
       "      <td>Wired Headphones</td>\n",
       "      <td>1.0</td>\n",
       "      <td>11.99</td>\n",
       "      <td>1/25/2019 11:59</td>\n",
       "      <td>387 10th St, Austin, TX 73301</td>\n",
       "      <td>1</td>\n",
       "      <td>Austin</td>\n",
       "    </tr>\n",
       "    <tr>\n",
       "      <th>...</th>\n",
       "      <td>...</td>\n",
       "      <td>...</td>\n",
       "      <td>...</td>\n",
       "      <td>...</td>\n",
       "      <td>...</td>\n",
       "      <td>...</td>\n",
       "      <td>...</td>\n",
       "      <td>...</td>\n",
       "    </tr>\n",
       "    <tr>\n",
       "      <th>25112</th>\n",
       "      <td>319666.0</td>\n",
       "      <td>Lightning Charging Cable</td>\n",
       "      <td>1.0</td>\n",
       "      <td>14.95</td>\n",
       "      <td>12/11/2019 20:58</td>\n",
       "      <td>14 Madison St, San Francisco, CA 94016</td>\n",
       "      <td>12</td>\n",
       "      <td>San Francisco</td>\n",
       "    </tr>\n",
       "    <tr>\n",
       "      <th>25113</th>\n",
       "      <td>319667.0</td>\n",
       "      <td>AA Batteries (4-pack)</td>\n",
       "      <td>2.0</td>\n",
       "      <td>3.84</td>\n",
       "      <td>12/1/2019 12:01</td>\n",
       "      <td>549 Willow St, Los Angeles, CA 90001</td>\n",
       "      <td>12</td>\n",
       "      <td>Los Angeles</td>\n",
       "    </tr>\n",
       "    <tr>\n",
       "      <th>25114</th>\n",
       "      <td>319668.0</td>\n",
       "      <td>Vareebadd Phone</td>\n",
       "      <td>1.0</td>\n",
       "      <td>400.00</td>\n",
       "      <td>12/9/2019 6:43</td>\n",
       "      <td>273 Wilson St, Seattle, WA 98101</td>\n",
       "      <td>12</td>\n",
       "      <td>Seattle</td>\n",
       "    </tr>\n",
       "    <tr>\n",
       "      <th>25115</th>\n",
       "      <td>319669.0</td>\n",
       "      <td>Wired Headphones</td>\n",
       "      <td>1.0</td>\n",
       "      <td>11.99</td>\n",
       "      <td>12/3/2019 10:39</td>\n",
       "      <td>778 River St, Dallas, TX 75001</td>\n",
       "      <td>12</td>\n",
       "      <td>Dallas</td>\n",
       "    </tr>\n",
       "    <tr>\n",
       "      <th>25116</th>\n",
       "      <td>319670.0</td>\n",
       "      <td>Bose SoundSport Headphones</td>\n",
       "      <td>1.0</td>\n",
       "      <td>99.99</td>\n",
       "      <td>12/21/2019 21:45</td>\n",
       "      <td>747 Chestnut St, Los Angeles, CA 90001</td>\n",
       "      <td>12</td>\n",
       "      <td>Los Angeles</td>\n",
       "    </tr>\n",
       "  </tbody>\n",
       "</table>\n",
       "<p>186850 rows × 8 columns</p>\n",
       "</div>"
      ],
      "text/plain": [
       "       Order ID                     Product  Quantity Ordered  Price Each  \\\n",
       "0      141234.0                      iPhone               1.0      700.00   \n",
       "1      141235.0    Lightning Charging Cable               1.0       14.95   \n",
       "2      141236.0            Wired Headphones               2.0       11.99   \n",
       "3      141237.0            27in FHD Monitor               1.0      149.99   \n",
       "4      141238.0            Wired Headphones               1.0       11.99   \n",
       "...         ...                         ...               ...         ...   \n",
       "25112  319666.0    Lightning Charging Cable               1.0       14.95   \n",
       "25113  319667.0       AA Batteries (4-pack)               2.0        3.84   \n",
       "25114  319668.0             Vareebadd Phone               1.0      400.00   \n",
       "25115  319669.0            Wired Headphones               1.0       11.99   \n",
       "25116  319670.0  Bose SoundSport Headphones               1.0       99.99   \n",
       "\n",
       "             Order Date                        Purchase Address  Month  \\\n",
       "0       1/22/2019 21:25         944 Walnut St, Boston, MA 02215      1   \n",
       "1       1/28/2019 14:15        185 Maple St, Portland, OR 97035      1   \n",
       "2       1/17/2019 13:33   538 Adams St, San Francisco, CA 94016      1   \n",
       "3        1/5/2019 20:33      738 10th St, Los Angeles, CA 90001      1   \n",
       "4       1/25/2019 11:59           387 10th St, Austin, TX 73301      1   \n",
       "...                 ...                                     ...    ...   \n",
       "25112  12/11/2019 20:58  14 Madison St, San Francisco, CA 94016     12   \n",
       "25113   12/1/2019 12:01    549 Willow St, Los Angeles, CA 90001     12   \n",
       "25114    12/9/2019 6:43        273 Wilson St, Seattle, WA 98101     12   \n",
       "25115   12/3/2019 10:39          778 River St, Dallas, TX 75001     12   \n",
       "25116  12/21/2019 21:45  747 Chestnut St, Los Angeles, CA 90001     12   \n",
       "\n",
       "                 City  \n",
       "0              Boston  \n",
       "1            Portland  \n",
       "2       San Francisco  \n",
       "3         Los Angeles  \n",
       "4              Austin  \n",
       "...               ...  \n",
       "25112   San Francisco  \n",
       "25113     Los Angeles  \n",
       "25114         Seattle  \n",
       "25115          Dallas  \n",
       "25116     Los Angeles  \n",
       "\n",
       "[186850 rows x 8 columns]"
      ]
     },
     "execution_count": 24,
     "metadata": {},
     "output_type": "execute_result"
    }
   ],
   "source": [
    "dfs"
   ]
  },
  {
   "cell_type": "markdown",
   "id": "7bd86c4f",
   "metadata": {},
   "source": [
    "### Data Exploration"
   ]
  },
  {
   "cell_type": "code",
   "execution_count": 25,
   "id": "939c4af7",
   "metadata": {},
   "outputs": [
    {
     "data": {
      "image/png": "[encoded data removed]",
      "text/plain": [
       "<Figure size 640x480 with 1 Axes>"
      ]
     },
     "metadata": {},
     "output_type": "display_data"
    }
   ],
   "source": [
    "# Group the data by month and calculate the total sales\n",
    "monthly_sales = dfs.groupby('Month')['Price Each'].sum().sort_values(ascending=False)\n",
    "\n",
    "\n",
    "# Create a bar chart showing monthly sales\n",
    "plt.bar(monthly_sales.index, monthly_sales.values)\n",
    "plt.title('Monthly Sales')\n",
    "plt.xlabel('Month')\n",
    "plt.ylabel('Total Sales')\n",
    "plt.show()\n"
   ]
  },
  {
   "cell_type": "code",
   "execution_count": 26,
   "id": "28481cb5",
   "metadata": {},
   "outputs": [
    {
     "name": "stdout",
     "output_type": "stream",
     "text": [
      "The best month was 12\n",
      "The max sale in 12 was 4601870.41\n"
     ]
    }
   ],
   "source": [
    "# Identify the best month for sales\n",
    "best_month = monthly_sales.idxmax()\n",
    "best_sales = monthly_sales[best_month]\n",
    "\n",
    "print(f\"The best month was {best_month}\") \n",
    "print(f\"The max sale in {best_month} was {best_sales}\")"
   ]
  },
  {
   "cell_type": "code",
   "execution_count": 27,
   "id": "aca860be",
   "metadata": {},
   "outputs": [
    {
     "name": "stdout",
     "output_type": "stream",
     "text": [
      "The city with the highest total sales is  San Francisco\n"
     ]
    }
   ],
   "source": [
    "# Calculate the total quantity sold for each product\n",
    "dfs['Total Sales'] = dfs['Quantity Ordered'] * dfs['Price Each']\n",
    "\n",
    "city_sales = dfs.groupby('City')['Total Sales'].sum()\n",
    "city_sales = city_sales.sort_values(ascending=False)\n",
    "city_sales\n",
    "print('The city with the highest total sales is', city_sales.index[0])"
   ]
  },
  {
   "cell_type": "code",
   "execution_count": 28,
   "id": "deffbefc",
   "metadata": {},
   "outputs": [
    {
     "data": {
      "text/html": [
       "<div>\n",
       "<style scoped>\n",
       "    .dataframe tbody tr th:only-of-type {\n",
       "        vertical-align: middle;\n",
       "    }\n",
       "\n",
       "    .dataframe tbody tr th {\n",
       "        vertical-align: top;\n",
       "    }\n",
       "\n",
       "    .dataframe thead th {\n",
       "        text-align: right;\n",
       "    }\n",
       "</style>\n",
       "<table border=\"1\" class=\"dataframe\">\n",
       "  <thead>\n",
       "    <tr style=\"text-align: right;\">\n",
       "      <th></th>\n",
       "      <th>Order ID</th>\n",
       "      <th>Product</th>\n",
       "      <th>Quantity Ordered</th>\n",
       "      <th>Price Each</th>\n",
       "      <th>Order Date</th>\n",
       "      <th>Purchase Address</th>\n",
       "      <th>Month</th>\n",
       "      <th>City</th>\n",
       "      <th>Total Sales</th>\n",
       "    </tr>\n",
       "  </thead>\n",
       "  <tbody>\n",
       "    <tr>\n",
       "      <th>0</th>\n",
       "      <td>141234.0</td>\n",
       "      <td>iPhone</td>\n",
       "      <td>1.0</td>\n",
       "      <td>700.00</td>\n",
       "      <td>1/22/2019 21:25</td>\n",
       "      <td>944 Walnut St, Boston, MA 02215</td>\n",
       "      <td>1</td>\n",
       "      <td>Boston</td>\n",
       "      <td>700.00</td>\n",
       "    </tr>\n",
       "    <tr>\n",
       "      <th>1</th>\n",
       "      <td>141235.0</td>\n",
       "      <td>Lightning Charging Cable</td>\n",
       "      <td>1.0</td>\n",
       "      <td>14.95</td>\n",
       "      <td>1/28/2019 14:15</td>\n",
       "      <td>185 Maple St, Portland, OR 97035</td>\n",
       "      <td>1</td>\n",
       "      <td>Portland</td>\n",
       "      <td>14.95</td>\n",
       "    </tr>\n",
       "    <tr>\n",
       "      <th>2</th>\n",
       "      <td>141236.0</td>\n",
       "      <td>Wired Headphones</td>\n",
       "      <td>2.0</td>\n",
       "      <td>11.99</td>\n",
       "      <td>1/17/2019 13:33</td>\n",
       "      <td>538 Adams St, San Francisco, CA 94016</td>\n",
       "      <td>1</td>\n",
       "      <td>San Francisco</td>\n",
       "      <td>23.98</td>\n",
       "    </tr>\n",
       "    <tr>\n",
       "      <th>3</th>\n",
       "      <td>141237.0</td>\n",
       "      <td>27in FHD Monitor</td>\n",
       "      <td>1.0</td>\n",
       "      <td>149.99</td>\n",
       "      <td>1/5/2019 20:33</td>\n",
       "      <td>738 10th St, Los Angeles, CA 90001</td>\n",
       "      <td>1</td>\n",
       "      <td>Los Angeles</td>\n",
       "      <td>149.99</td>\n",
       "    </tr>\n",
       "    <tr>\n",
       "      <th>4</th>\n",
       "      <td>141238.0</td>\n",
       "      <td>Wired Headphones</td>\n",
       "      <td>1.0</td>\n",
       "      <td>11.99</td>\n",
       "      <td>1/25/2019 11:59</td>\n",
       "      <td>387 10th St, Austin, TX 73301</td>\n",
       "      <td>1</td>\n",
       "      <td>Austin</td>\n",
       "      <td>11.99</td>\n",
       "    </tr>\n",
       "    <tr>\n",
       "      <th>...</th>\n",
       "      <td>...</td>\n",
       "      <td>...</td>\n",
       "      <td>...</td>\n",
       "      <td>...</td>\n",
       "      <td>...</td>\n",
       "      <td>...</td>\n",
       "      <td>...</td>\n",
       "      <td>...</td>\n",
       "      <td>...</td>\n",
       "    </tr>\n",
       "    <tr>\n",
       "      <th>25112</th>\n",
       "      <td>319666.0</td>\n",
       "      <td>Lightning Charging Cable</td>\n",
       "      <td>1.0</td>\n",
       "      <td>14.95</td>\n",
       "      <td>12/11/2019 20:58</td>\n",
       "      <td>14 Madison St, San Francisco, CA 94016</td>\n",
       "      <td>12</td>\n",
       "      <td>San Francisco</td>\n",
       "      <td>14.95</td>\n",
       "    </tr>\n",
       "    <tr>\n",
       "      <th>25113</th>\n",
       "      <td>319667.0</td>\n",
       "      <td>AA Batteries (4-pack)</td>\n",
       "      <td>2.0</td>\n",
       "      <td>3.84</td>\n",
       "      <td>12/1/2019 12:01</td>\n",
       "      <td>549 Willow St, Los Angeles, CA 90001</td>\n",
       "      <td>12</td>\n",
       "      <td>Los Angeles</td>\n",
       "      <td>7.68</td>\n",
       "    </tr>\n",
       "    <tr>\n",
       "      <th>25114</th>\n",
       "      <td>319668.0</td>\n",
       "      <td>Vareebadd Phone</td>\n",
       "      <td>1.0</td>\n",
       "      <td>400.00</td>\n",
       "      <td>12/9/2019 6:43</td>\n",
       "      <td>273 Wilson St, Seattle, WA 98101</td>\n",
       "      <td>12</td>\n",
       "      <td>Seattle</td>\n",
       "      <td>400.00</td>\n",
       "    </tr>\n",
       "    <tr>\n",
       "      <th>25115</th>\n",
       "      <td>319669.0</td>\n",
       "      <td>Wired Headphones</td>\n",
       "      <td>1.0</td>\n",
       "      <td>11.99</td>\n",
       "      <td>12/3/2019 10:39</td>\n",
       "      <td>778 River St, Dallas, TX 75001</td>\n",
       "      <td>12</td>\n",
       "      <td>Dallas</td>\n",
       "      <td>11.99</td>\n",
       "    </tr>\n",
       "    <tr>\n",
       "      <th>25116</th>\n",
       "      <td>319670.0</td>\n",
       "      <td>Bose SoundSport Headphones</td>\n",
       "      <td>1.0</td>\n",
       "      <td>99.99</td>\n",
       "      <td>12/21/2019 21:45</td>\n",
       "      <td>747 Chestnut St, Los Angeles, CA 90001</td>\n",
       "      <td>12</td>\n",
       "      <td>Los Angeles</td>\n",
       "      <td>99.99</td>\n",
       "    </tr>\n",
       "  </tbody>\n",
       "</table>\n",
       "<p>186850 rows × 9 columns</p>\n",
       "</div>"
      ],
      "text/plain": [
       "       Order ID                     Product  Quantity Ordered  Price Each  \\\n",
       "0      141234.0                      iPhone               1.0      700.00   \n",
       "1      141235.0    Lightning Charging Cable               1.0       14.95   \n",
       "2      141236.0            Wired Headphones               2.0       11.99   \n",
       "3      141237.0            27in FHD Monitor               1.0      149.99   \n",
       "4      141238.0            Wired Headphones               1.0       11.99   \n",
       "...         ...                         ...               ...         ...   \n",
       "25112  319666.0    Lightning Charging Cable               1.0       14.95   \n",
       "25113  319667.0       AA Batteries (4-pack)               2.0        3.84   \n",
       "25114  319668.0             Vareebadd Phone               1.0      400.00   \n",
       "25115  319669.0            Wired Headphones               1.0       11.99   \n",
       "25116  319670.0  Bose SoundSport Headphones               1.0       99.99   \n",
       "\n",
       "             Order Date                        Purchase Address  Month  \\\n",
       "0       1/22/2019 21:25         944 Walnut St, Boston, MA 02215      1   \n",
       "1       1/28/2019 14:15        185 Maple St, Portland, OR 97035      1   \n",
       "2       1/17/2019 13:33   538 Adams St, San Francisco, CA 94016      1   \n",
       "3        1/5/2019 20:33      738 10th St, Los Angeles, CA 90001      1   \n",
       "4       1/25/2019 11:59           387 10th St, Austin, TX 73301      1   \n",
       "...                 ...                                     ...    ...   \n",
       "25112  12/11/2019 20:58  14 Madison St, San Francisco, CA 94016     12   \n",
       "25113   12/1/2019 12:01    549 Willow St, Los Angeles, CA 90001     12   \n",
       "25114    12/9/2019 6:43        273 Wilson St, Seattle, WA 98101     12   \n",
       "25115   12/3/2019 10:39          778 River St, Dallas, TX 75001     12   \n",
       "25116  12/21/2019 21:45  747 Chestnut St, Los Angeles, CA 90001     12   \n",
       "\n",
       "                 City  Total Sales  \n",
       "0              Boston       700.00  \n",
       "1            Portland        14.95  \n",
       "2       San Francisco        23.98  \n",
       "3         Los Angeles       149.99  \n",
       "4              Austin        11.99  \n",
       "...               ...          ...  \n",
       "25112   San Francisco        14.95  \n",
       "25113     Los Angeles         7.68  \n",
       "25114         Seattle       400.00  \n",
       "25115          Dallas        11.99  \n",
       "25116     Los Angeles        99.99  \n",
       "\n",
       "[186850 rows x 9 columns]"
      ]
     },
     "execution_count": 28,
     "metadata": {},
     "output_type": "execute_result"
    }
   ],
   "source": [
    "dfs"
   ]
  },
  {
   "cell_type": "code",
   "execution_count": 29,
   "id": "14a0be70",
   "metadata": {},
   "outputs": [
    {
     "data": {
      "image/png": "[encoded data removed]",
      "text/plain": [
       "<Figure size 640x480 with 1 Axes>"
      ]
     },
     "metadata": {},
     "output_type": "display_data"
    }
   ],
   "source": [
    "# Create a bar chart showing the most popular products\n",
    "max_sold=dfs.groupby('Product')['Quantity Ordered'].sum()\n",
    "max_sold=max_sold.sort_values(ascending=False)\n",
    "plt.bar(max_sold.index,max_sold.values);\n",
    "plt.xticks(rotation=90)\n",
    "plt.show()"
   ]
  },
  {
   "cell_type": "code",
   "execution_count": 30,
   "id": "d422996e",
   "metadata": {},
   "outputs": [
    {
     "name": "stdout",
     "output_type": "stream",
     "text": [
      "The quantity sold for AAA batteries 4 pack is: 31017.0\n"
     ]
    }
   ],
   "source": [
    "quantity_sold = max_sold.loc[\"AAA Batteries (4-pack)\"]\n",
    "print(\"The quantity sold for AAA batteries 4 pack is:\", quantity_sold)"
   ]
  },
  {
   "cell_type": "code",
   "execution_count": 31,
   "id": "5f17fe29",
   "metadata": {},
   "outputs": [
    {
     "data": {
      "image/png": "[encoded data removed]",
      "text/plain": [
       "<Figure size 640x480 with 1 Axes>"
      ]
     },
     "metadata": {},
     "output_type": "display_data"
    }
   ],
   "source": [
    "# Create a histogram showing the frequency distribution of the \"City\" column\n",
    "column=\"City\"\n",
    "sns.histplot(dfs[column])\n",
    "plt.xlabel(column)\n",
    "plt.ylabel(\"Frequency\")\n",
    "plt.xticks(rotation=90)\n",
    "plt.show()"
   ]
  },
  {
   "cell_type": "code",
   "execution_count": null,
   "id": "5c3bf4bf",
   "metadata": {},
   "outputs": [],
   "source": []
  },
  {
   "cell_type": "code",
   "execution_count": null,
   "id": "198093ce",
   "metadata": {},
   "outputs": [],
   "source": []
  }
 ],
 "metadata": {
  "kernelspec": {
   "display_name": "Python 3 (ipykernel)",
   "language": "python",
   "name": "python3"
  },
  "language_info": {
   "codemirror_mode": {
    "name": "ipython",
    "version": 3
   },
   "file_extension": ".py",
   "mimetype": "text/x-python",
   "name": "python",
   "nbconvert_exporter": "python",
   "pygments_lexer": "ipython3",
   "version": "3.9.13"
  }
 },
 "nbformat": 4,
 "nbformat_minor": 5
}
